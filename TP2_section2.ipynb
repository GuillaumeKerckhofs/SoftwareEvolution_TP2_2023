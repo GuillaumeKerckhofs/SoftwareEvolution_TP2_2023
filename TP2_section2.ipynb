{
 "cells": [
  {
   "cell_type": "markdown",
   "id": "978a24fe-cb2e-4efc-a2e5-28e910e871d2",
   "metadata": {},
   "source": [
    "# Software Evolution - Practical Session\n",
    "## Laws of software evolution, code counting, code duplication and dependency analysis\n",
    "## Academic year 2022-2023"
   ]
  },
  {
   "cell_type": "markdown",
   "id": "57eb142c-d3ef-4d5e-94cb-d521369b384b",
   "metadata": {},
   "source": [
    "### Write your answers under the questions that are present in this notebook  \n",
    "\n",
    "### Read Section 1 and Section 2 in the provided description document before proceeding with the following section "
   ]
  },
  {
   "cell_type": "code",
   "execution_count": 55,
   "id": "55d3a082-512b-40e6-95bf-27191ea9aaaa",
   "metadata": {},
   "outputs": [],
   "source": [
    "import os\n",
    "import json\n",
    "from tqdm import tqdm\n",
    "import pandas as pd\n",
    "import numpy as np\n",
    "import matplotlib.pyplot as plt\n",
    "import subprocess\n",
    "import math\n",
    "from pandas import option_context\n",
    "from sklearn.linear_model import LinearRegression\n",
    "from sklearn.preprocessing import PolynomialFeatures\n",
    "import csv"
   ]
  },
  {
   "cell_type": "markdown",
   "id": "6d83b58e-d5ad-4004-8cc5-e4b31721bb12",
   "metadata": {},
   "source": [
    "## 2. Verifying laws of software evolution"
   ]
  },
  {
   "cell_type": "code",
   "execution_count": 3,
   "id": "0f76117a-1a18-4cb5-8ed0-3fa9cfdfc31c",
   "metadata": {},
   "outputs": [],
   "source": [
    "#Enter the path where the Eucalyptus project is present\n",
    "eucalyptus_project_path = '../eucalyptus/'"
   ]
  },
  {
   "cell_type": "markdown",
   "id": "081450a6-87af-484c-8a64-56d49eccff80",
   "metadata": {},
   "source": [
    "### 2.1 Data prepocessing\n",
    "1. Get all the tags present in the eucalyptus project using CLOC\n",
    "2. Filter out the tags that do not correspond to official releases"
   ]
  },
  {
   "cell_type": "markdown",
   "id": "340322a1-719b-472b-8b2a-40c974224c1c",
   "metadata": {},
   "source": [
    "Code hint:  \n",
    "To get the tags that are present in the project - \"command = f'git -C {eucalyptus_project_path} tag -l --format=\"%(refname:short)\" | sort -r'\"   \n",
    "To read the terminal output - 'process = subprocess.Popen(command, stdout=subprocess.PIPE, shell=True)'"
   ]
  },
  {
   "cell_type": "code",
   "execution_count": 4,
   "id": "8cede273-9ee7-4e38-b340-9ad4eca08c18",
   "metadata": {},
   "outputs": [
    {
     "name": "stdout",
     "output_type": "stream",
     "text": [
      "['1.0-beta', '1.4', '1.5.0', '1.5.1', '1.5.2', '1.6.1', '2.0-beta', '2.0-branch', '2.0.0', '2.0.1', '3.0-alpha1', '3.0-beta2', '3.0-beta3', '3.0-beta4', '3.0-beta5', '3.0-beta6', '3.0-rc1', '3.0-rc2', '3.0-rc3', '3.0.0', '3.0.1', '3.1-alpha2', '3.1-beta1', '3.1.0', '3.1.1', '3.1.2', '3.2.0', '3.2.1', '3.2.2', '3.3-m1', '3.3-m2', '3.3-m3', '3.3-m4', '3.3-m5', '3.3-m6', '3.3.0', '3.3.0.1', '3.3.1', '3.3.2', '3.4.0', '3.4.1', '3.4.2', 'ha-baseline', 'jaunty', 'karmic', 'v4.0.0', 'v4.0.1', 'v4.0.2', 'v4.1.0', 'v4.1.1', 'v4.1.2', 'v4.2.0', 'v4.2.1', 'v4.2.2', 'v4.3.0', 'v4.3.0.1', 'v4.3.1', 'v4.3.1.1', 'v4.4.0', 'v4.4.1', 'v4.4.2']\n"
     ]
    }
   ],
   "source": [
    "# Your code here\n",
    "command=f'git -C {eucalyptus_project_path}  tag -l --format=\"%(refname:short)\" '\n",
    "process = subprocess.Popen(command, stdout=subprocess.PIPE, shell=True)\n",
    "all_tags = list(line.strip().decode(\"utf-8\") for line in process.stdout)\n",
    "print(all_tags)"
   ]
  },
  {
   "cell_type": "code",
   "execution_count": 37,
   "id": "e8ed2aea-5e29-4cfa-82fa-f43e233fb5ee",
   "metadata": {},
   "outputs": [
    {
     "name": "stdout",
     "output_type": "stream",
     "text": [
      "['1.4', '1.5.0', '1.5.1', '1.5.2', '1.6.1', '2.0.0', '2.0.1', '3.0.0', '3.0.1', '3.1.0', '3.1.1', '3.1.2', '3.2.0', '3.2.1', '3.2.2', '3.3.0', '3.3.1', '3.3.2', '3.4.0', '3.4.1', '3.4.2', 'v4.0.0', 'v4.0.1', 'v4.0.2', 'v4.1.0', 'v4.1.1', 'v4.1.2', 'v4.2.0', 'v4.2.1', 'v4.2.2', 'v4.3.0', 'v4.3.1', 'v4.4.0', 'v4.4.1', 'v4.4.2']\n",
      "['1.4', '1.5.0', '1.6.1', '2.0.0', '3.0.0', '3.1.0', '3.2.0', '3.3.0', '3.4.0', 'v4.0.0', 'v4.1.0', 'v4.2.0', 'v4.3.0', 'v4.4.0']\n"
     ]
    }
   ],
   "source": [
    "# Your tag filtering code here\n",
    "\n",
    "import re\n",
    "\n",
    "def check_version_format(tag):\n",
    "    pattern = r\"^v?[0-9]+\\.[0-9]+(\\.[0-9]+)?$\"\n",
    "    match = re.match(pattern, tag)\n",
    "    return bool(match)\n",
    "\n",
    "\n",
    "\n",
    "def check_major_minor_format(tag1,tag2):\n",
    "    pattern = r\"^v?([0-9]+)\\.([0-9]+)(\\.[0-9]+)?$\"\n",
    "    match = re.match(pattern, tag1)\n",
    "    match2 = re.match(pattern, tag2)\n",
    "    if(match and match2):\n",
    "        major_version = int(match.group(1))\n",
    "        minor_version = int(match.group(2))\n",
    "        major_version2 = int(match2.group(1))\n",
    "        minor_version2 = int(match2.group(2))\n",
    "        return bool( (major_version == major_version2) and (minor_version == minor_version2))\n",
    "    return False\n",
    "\n",
    "\n",
    "\n",
    "    \n",
    "\n",
    "major_minor_patch_versions = []\n",
    "\n",
    "major_minor_versions = []\n",
    "\n",
    "current_version = \"\"\n",
    "for tag in all_tags:\n",
    "    if check_version_format(tag):\n",
    "        major_minor_patch_versions.append(tag)\n",
    "        if(not(check_major_minor_format(current_version,tag))):\n",
    "            major_minor_versions.append(tag)\n",
    "            current_version = tag\n",
    "        \n",
    "print(major_minor_patch_versions)\n",
    "print(major_minor_versions)"
   ]
  },
  {
   "cell_type": "markdown",
   "id": "aca20a9c-4269-42e0-82d0-ff33d9fe9b30",
   "metadata": {},
   "source": [
    "### 2.2 Law of Increasing Growth\n",
    "1. Fetch the required data (lines of code, blank lines, comment lines and number of files) for each tag along with their release date using CLOC\n",
    "2. Separate the data as following (also mentioned in section 2.1 of the description document)  \n",
    "    a) Consider all the three-component versions (major.minor.patch) - Dataset A  \n",
    "    b) Consider only the minor versions (major.minor) - Dataset B  \n",
    "\n",
    "Note: For example, if there exists any tag like 2.1.0.1, then you can consider it as 2.1.0 provided such a tag does not exist in the data. If both 2.1.0 and 2.1.0.1 exists, then you can ignore the latter "
   ]
  },
  {
   "cell_type": "markdown",
   "id": "cbab47f1-933d-4b28-8a35-f7c3e82cd15c",
   "metadata": {},
   "source": [
    "Code hint:  \n",
    "To set the project to a required tag - \"command = f'git -C {project_path} reset --hard {tag}'\"  \n",
    "For each tag, pass the command to the terminal, invoke cloc tool to get the necessary data in the required format (json, md,...), read the terminal output and store the data"
   ]
  },
  {
   "cell_type": "code",
   "execution_count": 43,
   "id": "f722fc93-4221-4ece-91e0-d521ddc84987",
   "metadata": {},
   "outputs": [
    {
     "name": "stdout",
     "output_type": "stream",
     "text": [
      "[['1.4', '1522', '30677', '86915', '190739'], ['1.5.0', '1910', '37080', '102090', '226720'], ['1.5.1', '1917', '36759', '101319', '225933'], ['1.5.2', '2017', '37728', '95549', '232494'], ['1.6.1', '2122', '40462', '124203', '249289'], ['2.0.0', '2442', '44423', '126329', '278339'], ['2.0.1', '2480', '44665', '126339', '279553'], ['3.0.0', '3096', '55890', '144107', '348907'], ['3.0.1', '3103', '56118', '145165', '352923'], ['3.1.0', '3049', '56146', '146206', '355170'], ['3.1.1', '3052', '56259', '146509', '355927'], ['3.1.2', '3053', '56274', '146537', '356014'], ['3.2.0', '3224', '61439', '195010', '374607'], ['3.2.1', '3408', '70064', '202954', '423736'], ['3.2.2', '3404', '70046', '202917', '423678'], ['3.3.0', '4071', '84833', '242286', '514197'], ['3.3.1', '4150', '86237', '244147', '523025'], ['3.3.2', '4150', '86258', '244174', '523242'], ['3.4.0', '3716', '74219', '230815', '454270'], ['3.4.1', '3734', '74369', '231486', '454374'], ['3.4.2', '3734', '74416', '231493', '454828'], ['v4.0.0', '4044', '81339', '238674', '505291'], ['v4.0.1', '4116', '82801', '240437', '515384'], ['v4.0.2', '4117', '82875', '240747', '515728'], ['v4.1.0', '4078', '82945', '235580', '513437'], ['v4.1.1', '4080', '83111', '234699', '515789'], ['v4.1.2', '4080', '83165', '234768', '516155'], ['v4.2.0', '3753', '75398', '222721', '465325'], ['v4.2.1', '3752', '75508', '222743', '465802'], ['v4.2.2', '3753', '75575', '222844', '466492'], ['v4.3.0', '3562', '74115', '217910', '469033'], ['v4.3.1', '3560', '74132', '217899', '469412'], ['v4.4.0', '3420', '72159', '207005', '459961'], ['v4.4.1', '3420', '72220', '207120', '460844'], ['v4.4.2', '3420', '72230', '207124', '461067']]\n"
     ]
    }
   ],
   "source": [
    "#Your code here\n",
    "\n",
    "result = []\n",
    "\n",
    "for tag in major_minor_patch_versions:\n",
    "    row = []\n",
    "    command = f'git -C {eucalyptus_project_path} reset --hard {tag}'\n",
    "    process = subprocess.Popen(command, stdout=subprocess.PIPE, shell=True)\n",
    "    command = f'..\\cloc-1.96.exe --csv {eucalyptus_project_path}'\n",
    "    process = subprocess.Popen(command, stdout=subprocess.PIPE, shell=True)\n",
    "\n",
    "    output = list(line.strip().decode(\"utf-8\") for line in process.stdout)\n",
    "    tmp = output[len(output)-1]\n",
    "    data = tmp.split(',')\n",
    "    row.append(tag)\n",
    "    row.append(data[0])\n",
    "    row.append(data[2])\n",
    "    row.append(data[3])\n",
    "    row.append(data[4])\n",
    "    result.append(row)\n",
    "\n",
    "print(result)"
   ]
  },
  {
   "cell_type": "code",
   "execution_count": 46,
   "id": "aefb6d51-33bb-4a0c-95ea-aac4f62c3366",
   "metadata": {
    "scrolled": true
   },
   "outputs": [
    {
     "name": "stdout",
     "output_type": "stream",
     "text": [
      "[['1.4', '1522', '30677', '86915', '190739', '2009-01-06', '2009-01-06', '2009-01-06'], ['1.5.0', '1910', '37080', '102090', '226720', '2009-02-18', '2009-02-18', '2009-02-18'], ['1.5.1', '1917', '36759', '101319', '225933', '2009-08-05', '2009-08-05', '2009-08-05'], ['1.5.2', '2017', '37728', '95549', '232494', '2009-08-17', '2009-08-17', '2009-08-17'], ['1.6.1', '2122', '40462', '124203', '249289', '2009-11-05', '2009-11-05', '2009-11-05'], ['2.0.0', '2442', '44423', '126329', '278339', '2010-06-05', '2010-06-05', '2010-06-05'], ['2.0.1', '2480', '44665', '126339', '279553', '2010-07-06', '2010-07-06', '2010-07-06'], ['3.0.0', '3096', '55890', '144107', '348907', '2012-02-07', '2012-02-07', '2012-02-07'], ['3.0.1', '3103', '56118', '145165', '352923', '2012-03-12', '2012-03-12', '2012-03-12'], ['3.1.0', '3049', '56146', '146206', '355170', '2012-06-22', '2012-06-22', '2012-06-22'], ['3.1.1', '3052', '56259', '146509', '355927', '2012-09-17', '2012-09-17', '2012-09-17'], ['3.1.2', '3053', '56274', '146537', '356014', '2012-09-27', '2012-09-27', '2012-09-27'], ['3.2.0', '3224', '61439', '195010', '374607', '2012-12-17', '2012-12-17', '2012-12-17'], ['3.2.1', '3408', '70064', '202954', '423736', '2013-02-28', '2013-02-28', '2013-02-28'], ['3.2.2', '3404', '70046', '202917', '423678', '2013-04-16', '2013-04-16', '2013-04-16'], ['3.3.0', '4071', '84833', '242286', '514197', '2013-06-20', '2013-06-20', '2013-06-20'], ['3.3.1', '4150', '86237', '244147', '523025', '2013-09-11', '2013-09-11', '2013-09-11'], ['3.3.2', '4150', '86258', '244174', '523242', '2013-10-24', '2013-10-24', '2013-10-24'], ['3.4.0', '3716', '74219', '230815', '454270', '2013-10-24', '2013-10-24', '2013-10-24'], ['3.4.1', '3734', '74369', '231486', '454374', '2013-12-16', '2013-12-16', '2013-12-16'], ['3.4.2', '3734', '74416', '231493', '454828', '2014-02-25', '2014-02-25', '2014-02-25'], ['v4.0.0', '4044', '81339', '238674', '505291', '2014-05-30', '2014-05-30', '2014-05-30'], ['v4.0.1', '4116', '82801', '240437', '515384', '2014-08-04', '2014-08-04', '2014-08-04'], ['v4.0.2', '4117', '82875', '240747', '515728', '2014-11-03', '2014-11-03', '2014-11-03'], ['v4.1.0', '4078', '82945', '235580', '513437', '2015-01-28', '2015-01-28', '2015-01-28'], ['v4.1.1', '4080', '83111', '234699', '515789', '2015-05-07', '2015-05-07', '2015-05-07'], ['v4.1.2', '4080', '83165', '234768', '516155', '2015-07-28', '2015-07-28', '2015-07-28'], ['v4.2.0', '3753', '75398', '222721', '465325', '2015-10-22', '2015-10-22', '2015-10-22'], ['v4.2.1', '3752', '75508', '222743', '465802', '2015-12-07', '2015-12-07', '2015-12-07'], ['v4.2.2', '3753', '75575', '222844', '466492', '2016-04-27', '2016-04-27', '2016-04-27'], ['v4.3.0', '3562', '74115', '217910', '469033', '2016-08-09', '2016-08-09', '2016-08-09'], ['v4.3.1', '3560', '74132', '217899', '469412', '2016-12-14', '2016-12-14', '2016-12-14'], ['v4.4.0', '3420', '72159', '207005', '459961', '2017-03-07', '2017-03-07', '2017-03-07'], ['v4.4.1', '3420', '72220', '207120', '460844', '2017-05-08', '2017-05-08', '2017-05-08'], ['v4.4.2', '3420', '72230', '207124', '461067', '2017-08-30', '2017-08-30', '2017-08-30']]\n"
     ]
    }
   ],
   "source": [
    "command = f'git -C {eucalyptus_project_path} tag -l --format=\"%(refname:short)|%(creatordate:short)\"' # to get the release date\n",
    "process = subprocess.Popen(command, stdout=subprocess.PIPE, shell=True)\n",
    "# Your code to obtain the release date of each tag and combine it with the data obtained in the previous cell. Final data should have\n",
    "# #lines of code, #comments, #files, #blanks, #release date\n",
    "\n",
    "output = list(line.strip().decode(\"utf-8\") for line in process.stdout)\n",
    "i = 0\n",
    "for line in output:\n",
    "    tmp = line.split('|')\n",
    "    if tmp[0] in major_minor_patch_versions:\n",
    "        result[i].append(tmp[1])\n",
    "        i += 1\n",
    "\n",
    "print(result)"
   ]
  },
  {
   "cell_type": "code",
   "execution_count": 51,
   "id": "c9d32893-d57a-4edc-b1e7-1825b64ae9c9",
   "metadata": {},
   "outputs": [],
   "source": [
    "# Your code here to get the versions of the form major.minor \n",
    "\n",
    "header = ['version','nb_nfiles', 'nb_blank', 'nb_comment', 'nb_code','date']\n",
    "\n",
    "with open('major_minor.csv', 'w', encoding='UTF8', newline='') as f:\n",
    "\n",
    "    writer = csv.writer(f)\n",
    "\n",
    "    writer.writerow(header)\n",
    "    for row in result:\n",
    "        if(row[0] in major_minor_versions):\n",
    "            writer.writerow(row[:6])\n"
   ]
  },
  {
   "cell_type": "code",
   "execution_count": 52,
   "id": "1b8ba85a-ea94-4cc3-980e-46d42f59ef0e",
   "metadata": {},
   "outputs": [],
   "source": [
    "# Your code here to get the versions of the form major.minor.patch\n",
    "\n",
    "with open('major_minor_patch.csv', 'w', encoding='UTF8', newline='') as f:\n",
    "\n",
    "    writer = csv.writer(f)\n",
    "\n",
    "    writer.writerow(header)\n",
    "    for row in result:\n",
    "        writer.writerow(row[:6])"
   ]
  },
  {
   "cell_type": "markdown",
   "id": "5635bd4d-979b-44a2-ae4a-1962b170445a",
   "metadata": {},
   "source": [
    "#### Visualization\n",
    "1. x-axis = version, y-axis = number  \n",
    "    i) for tags of the type major.minor.patch  \n",
    "    ii) for tags of the type major.minor  \n",
    "\n",
    "2. x-axis = date, y-axis = number  \n",
    "    i) for tags of the type major.minor.patch  \n",
    "    ii) for tags of the type major.minor  \n",
    "\n",
    "For easy comparison, place the plots with the versions on x-axis should be on the top (0,0) and (1,0) and their corresponding plots with date on the x-axis right below them (1,0) and (1,1) "
   ]
  },
  {
   "cell_type": "code",
   "execution_count": 56,
   "id": "2b146e1b-99f4-4a0f-8202-2231a10a86b2",
   "metadata": {},
   "outputs": [
    {
     "data": {
      "image/png": "[encoded data removed]",
      "text/plain": [
       "<Figure size 1080x1080 with 4 Axes>"
      ]
     },
     "metadata": {
      "needs_background": "light"
     },
     "output_type": "display_data"
    }
   ],
   "source": [
    "fig,axes = plt.subplots(2,2)\n",
    "\n",
    "fig.set_figheight(15)\n",
    "fig.set_figwidth(15)\n",
    "\n",
    "\n",
    "# Your plotting code here\n",
    "\n",
    "number=['nb_code','nb_blank','nb_comment','nb_nfiles']\n",
    "\n",
    "df = pd.read_csv('LIG_major_minor_patch.csv')\n",
    "\n",
    "df2 = pd.read_csv('LIG_major_minor.csv')\n",
    "\n",
    "for n in number:\n",
    "\n",
    "    df.plot(x='major.minor.patch',y=n,ax=axes[0,0])\n",
    "\n",
    "    df2.plot(x='major.minor',y=n,ax=axes[0,1])\n",
    "\n",
    "    df.plot(x='date',y=n,ax=axes[1,0])\n",
    "\n",
    "    df2.plot(x='date',y=n,ax=axes[1,1])"
   ]
  },
  {
   "cell_type": "markdown",
   "id": "8774bc4c-9131-425d-b8d2-9d0940e48f6c",
   "metadata": {},
   "source": [
    "### Questions:\n",
    "1. Do you find any difference between the plot that is having date in the x-axis and the plot that is having tag in the x-axis? If yes, then what is the difference? If no, then why is it same?"
   ]
  },
  {
   "cell_type": "markdown",
   "id": "b03dae7d-de25-4146-baf6-d8bfd2419549",
   "metadata": {},
   "source": [
    "For the major minor versions, there is a difference between the plot having date in the x-axis and the plot having tag in the x-asis. The increase of the number is spread over time but with the plot having tag in the x-asis, the increase is steeper. We can explain this difference by the fact that they spend more time in this major minor version."
   ]
  },
  {
   "cell_type": "markdown",
   "id": "edf025c5-9edc-440d-9bee-5dbdf20431bc",
   "metadata": {},
   "source": [
    "2. Which type of plot is preferable for software evolution analysis?   \n",
    "    a) date in x-axis  \n",
    "    b) tag in x-axis  \n",
    "Why?"
   ]
  },
  {
   "cell_type": "markdown",
   "id": "ea949023-d96b-4fdd-9027-d453bdf51e99",
   "metadata": {},
   "source": [
    "a, we can see the evolution over time of the project. It is more readeable than the result with tag in x-asis because we can have one big increase between two tag, but with date in x-asis, the increase can be less steeper."
   ]
  },
  {
   "cell_type": "code",
   "execution_count": null,
   "id": "9a9664d4",
   "metadata": {},
   "outputs": [],
   "source": []
  },
  {
   "cell_type": "markdown",
   "id": "6110bbae-e381-43ec-9a51-72bf941e3ced",
   "metadata": {},
   "source": [
    "3. Choose an option regarding the growth of the software by considering Dataset A. Motivate your choice using a 1d regression plot (below).  \n",
    "    a) Linear  \n",
    "    b) Sub-linear  \n",
    "    c) Super-linear  "
   ]
  },
  {
   "cell_type": "markdown",
   "id": "cb637502-7b6c-4eb2-8b9e-6cc2f3793031",
   "metadata": {},
   "source": []
  },
  {
   "cell_type": "code",
   "execution_count": 115,
   "id": "1b3a1dc2-2030-4f14-bf05-147628c7dd65",
   "metadata": {},
   "outputs": [
    {
     "data": {
      "image/png": "[encoded data removed]",
      "text/plain": [
       "<Figure size 504x504 with 1 Axes>"
      ]
     },
     "metadata": {
      "needs_background": "light"
     },
     "output_type": "display_data"
    }
   ],
   "source": [
    "plt.figure(figsize=(7,7))\n",
    "# Your code for regression plot\n",
    "d = df[['nb_code','nb_blank','nb_comment','nb_nfiles','relative_day']]\n",
    "d.head()\n",
    "\n",
    "\n",
    "X = d['relative_day'].values.reshape(-1, 1)\n",
    "y = d['nb_code']\n",
    "\n",
    "regr = LinearRegression()\n",
    "regr.fit(X, y)\n",
    "\n",
    "\n",
    "plt.scatter(X,y,color=\"red\")\n",
    "plt.plot(X,regr.predict(X))\n",
    "\n",
    "plt.show()"
   ]
  },
  {
   "cell_type": "markdown",
   "id": "c7cc92a4-8386-4359-b041-ce267552a09a",
   "metadata": {},
   "source": [
    "### Correlation \n",
    "Correlation is generally used to analyse the relationship between variables. Here, analyse the relationship between the number of lines of code and the number of files using Spearman correlation and Pearson correlation by considering Dataset A. Report the correlation upto 3 decimal places"
   ]
  },
  {
   "cell_type": "code",
   "execution_count": 110,
   "id": "70749ee7-78a8-4344-90cb-2ff0b6a0572f",
   "metadata": {},
   "outputs": [
    {
     "name": "stdout",
     "output_type": "stream",
     "text": [
      "            nb_code  nb_nfiles\n",
      "nb_code    1.000000   0.977165\n",
      "nb_nfiles  0.977165   1.000000\n",
      "\n",
      "\n",
      "            nb_code  nb_nfiles\n",
      "nb_code    1.000000   0.993107\n",
      "nb_nfiles  0.993107   1.000000\n"
     ]
    }
   ],
   "source": [
    "# Your code for correlation\n",
    "correlation = d[[\"nb_code\", \"nb_nfiles\"]].corr(method='spearman')\n",
    "\n",
    "correlation2 = d[[\"nb_code\", \"nb_nfiles\"]].corr(method='pearson')\n",
    "\n",
    "print(correlation)\n",
    "\n",
    "print(\"\\n\")\n",
    "\n",
    "print(correlation2)"
   ]
  },
  {
   "cell_type": "markdown",
   "id": "3e8f82aa-ce42-4355-8de1-916e371f5af2",
   "metadata": {},
   "source": [
    "### Questions:\n",
    "4. Do you find any difference in correlation values between Pearson and Spearman? Which one is preferable for this use case? why?"
   ]
  },
  {
   "cell_type": "markdown",
   "id": "b6e1599e-113c-4bfa-9c0b-eac18aae3a27",
   "metadata": {},
   "source": [
    "Pearson coefficient works with linear relationship and Spearman with non-linear relationship. In this cas, pearson is better because the relation between the number are linear. One way to see it is the linear regression above."
   ]
  },
  {
   "cell_type": "markdown",
   "id": "fb9a8312-20fd-41f7-875e-668761a998a6",
   "metadata": {},
   "source": [
    "5. Based on the above correlation value, how much is the number of lines of code related to the number of files?"
   ]
  },
  {
   "cell_type": "markdown",
   "id": "4ebe75dc-cb80-469b-909d-ca4293365f25",
   "metadata": {},
   "source": [
    "0.993107"
   ]
  },
  {
   "cell_type": "markdown",
   "id": "72e2ea6c-cb13-4dae-8666-ed599c928efe",
   "metadata": {},
   "source": [
    "### Prediction\n",
    "Consider Dataset A for this task. Drop the last two data points in \"number of lines of code\" (LOC) (i.e. drop (LOC) corresponding to v4.4.1 and v4.4.2) and forecast the values for (LOC) for v4.4.1 and v4.4.2 using a basic linear/polynimial regression model.\n",
    "1. Drop the last two data points\n",
    "2. Build a basic regression model\n",
    "3. Ask the model to forecast the next two data points\n",
    "4. Plot the LOC original and forecasted in the same plot. x-axis = date, y-axis = number of lines of code"
   ]
  },
  {
   "cell_type": "code",
   "execution_count": 111,
   "id": "1a8b2e38-2975-439e-81d3-8c6dc46ccab9",
   "metadata": {},
   "outputs": [
    {
     "data": {
      "text/html": [
       "<div>\n",
       "<style scoped>\n",
       "    .dataframe tbody tr th:only-of-type {\n",
       "        vertical-align: middle;\n",
       "    }\n",
       "\n",
       "    .dataframe tbody tr th {\n",
       "        vertical-align: top;\n",
       "    }\n",
       "\n",
       "    .dataframe thead th {\n",
       "        text-align: right;\n",
       "    }\n",
       "</style>\n",
       "<table border=\"1\" class=\"dataframe\">\n",
       "  <thead>\n",
       "    <tr style=\"text-align: right;\">\n",
       "      <th></th>\n",
       "      <th>Unnamed: 0</th>\n",
       "      <th>major</th>\n",
       "      <th>minor</th>\n",
       "      <th>patch</th>\n",
       "      <th>nb_code</th>\n",
       "      <th>nb_blank</th>\n",
       "      <th>nb_comment</th>\n",
       "      <th>nb_nfiles</th>\n",
       "      <th>date</th>\n",
       "      <th>relative_day</th>\n",
       "      <th>major.minor.patch</th>\n",
       "    </tr>\n",
       "  </thead>\n",
       "  <tbody>\n",
       "    <tr>\n",
       "      <th>0</th>\n",
       "      <td>0</td>\n",
       "      <td>1</td>\n",
       "      <td>4</td>\n",
       "      <td>0</td>\n",
       "      <td>115336</td>\n",
       "      <td>18033</td>\n",
       "      <td>37569</td>\n",
       "      <td>1624</td>\n",
       "      <td>2009-01-06</td>\n",
       "      <td>0</td>\n",
       "      <td>1.4.0</td>\n",
       "    </tr>\n",
       "    <tr>\n",
       "      <th>1</th>\n",
       "      <td>1</td>\n",
       "      <td>1</td>\n",
       "      <td>5</td>\n",
       "      <td>0</td>\n",
       "      <td>129319</td>\n",
       "      <td>20261</td>\n",
       "      <td>44820</td>\n",
       "      <td>1705</td>\n",
       "      <td>2009-02-18</td>\n",
       "      <td>43</td>\n",
       "      <td>1.5.0</td>\n",
       "    </tr>\n",
       "    <tr>\n",
       "      <th>2</th>\n",
       "      <td>2</td>\n",
       "      <td>1</td>\n",
       "      <td>5</td>\n",
       "      <td>1</td>\n",
       "      <td>133424</td>\n",
       "      <td>20780</td>\n",
       "      <td>44377</td>\n",
       "      <td>1784</td>\n",
       "      <td>2009-08-05</td>\n",
       "      <td>211</td>\n",
       "      <td>1.5.1</td>\n",
       "    </tr>\n",
       "    <tr>\n",
       "      <th>3</th>\n",
       "      <td>3</td>\n",
       "      <td>1</td>\n",
       "      <td>5</td>\n",
       "      <td>2</td>\n",
       "      <td>134275</td>\n",
       "      <td>20719</td>\n",
       "      <td>38184</td>\n",
       "      <td>1796</td>\n",
       "      <td>2009-08-17</td>\n",
       "      <td>223</td>\n",
       "      <td>1.5.2</td>\n",
       "    </tr>\n",
       "    <tr>\n",
       "      <th>4</th>\n",
       "      <td>4</td>\n",
       "      <td>1</td>\n",
       "      <td>6</td>\n",
       "      <td>1</td>\n",
       "      <td>152705</td>\n",
       "      <td>23755</td>\n",
       "      <td>65761</td>\n",
       "      <td>1923</td>\n",
       "      <td>2009-11-05</td>\n",
       "      <td>303</td>\n",
       "      <td>1.6.1</td>\n",
       "    </tr>\n",
       "  </tbody>\n",
       "</table>\n",
       "</div>"
      ],
      "text/plain": [
       "   Unnamed: 0  major  minor  patch  nb_code  nb_blank  nb_comment  nb_nfiles  \\\n",
       "0           0      1      4      0   115336     18033       37569       1624   \n",
       "1           1      1      5      0   129319     20261       44820       1705   \n",
       "2           2      1      5      1   133424     20780       44377       1784   \n",
       "3           3      1      5      2   134275     20719       38184       1796   \n",
       "4           4      1      6      1   152705     23755       65761       1923   \n",
       "\n",
       "         date  relative_day major.minor.patch  \n",
       "0  2009-01-06             0             1.4.0  \n",
       "1  2009-02-18            43             1.5.0  \n",
       "2  2009-08-05           211             1.5.1  \n",
       "3  2009-08-17           223             1.5.2  \n",
       "4  2009-11-05           303             1.6.1  "
      ]
     },
     "execution_count": 111,
     "metadata": {},
     "output_type": "execute_result"
    }
   ],
   "source": [
    "# Your code here\n",
    "new_df = df[:-2]\n",
    "new_df.head()"
   ]
  },
  {
   "cell_type": "code",
   "execution_count": 113,
   "id": "e6141273-c4f5-44a9-ac5d-a548b7a7a189",
   "metadata": {},
   "outputs": [
    {
     "data": {
      "image/png": "[encoded data removed]",
      "text/plain": [
       "<Figure size 504x504 with 1 Axes>"
      ]
     },
     "metadata": {
      "needs_background": "light"
     },
     "output_type": "display_data"
    }
   ],
   "source": [
    "# Your code here\n",
    "plt.figure(figsize=(7,7))\n",
    "\n",
    "d = new_df[['nb_code','nb_blank','nb_comment','nb_nfiles','relative_day']]\n",
    "d.head()\n",
    "\n",
    "new_X = d['relative_day'].values.reshape(-1, 1)\n",
    "new_y = d['nb_code']\n",
    "\n",
    "regr = LinearRegression()\n",
    "regr.fit(new_X, new_y)\n",
    "\n",
    "\n",
    "plt.scatter(new_X,new_y,color=\"red\")\n",
    "plt.plot(new_X,regr.predict(new_X))\n",
    "\n",
    "plt.show()"
   ]
  },
  {
   "cell_type": "code",
   "execution_count": 129,
   "id": "7db7464c-88d3-492d-9078-42e899757af2",
   "metadata": {},
   "outputs": [
    {
     "data": {
      "text/plain": [
       "array([559611.33805246, 576561.35283319])"
      ]
     },
     "execution_count": 129,
     "metadata": {},
     "output_type": "execute_result"
    }
   ],
   "source": [
    "# Your code here\n",
    "last_two = df[-2:]\n",
    "\n",
    "results = regr.predict(last_two[[\"relative_day\"]])\n",
    "results"
   ]
  },
  {
   "cell_type": "code",
   "execution_count": 135,
   "id": "e67d1b02-fc45-480a-8e03-d9a291636a33",
   "metadata": {},
   "outputs": [
    {
     "data": {
      "image/png": "[encoded data removed]",
      "text/plain": [
       "<Figure size 504x504 with 1 Axes>"
      ]
     },
     "metadata": {
      "needs_background": "light"
     },
     "output_type": "display_data"
    }
   ],
   "source": [
    "# Your plotting code here\n",
    "\n",
    "plt.figure(figsize=(7,7))\n",
    "\n",
    "fig.set_figheight(15)\n",
    "fig.set_figwidth(15)\n",
    "\n",
    "\n",
    "plt.plot(X,y)\n",
    "\n",
    "new_y_forecasted = np.concatenate((new_y, results))\n",
    "\n",
    "plt.plot(X,new_y_forecasted,color = \"red\")\n",
    "\n",
    "plt.show()"
   ]
  },
  {
   "cell_type": "markdown",
   "id": "8bdd2798-1e93-4beb-8339-4e408d3c39c2",
   "metadata": {},
   "source": [
    "### Questions:\n",
    "6. What is the polynomial degree that you adopted to build the model? Why? "
   ]
  },
  {
   "cell_type": "markdown",
   "id": "f3c421f9-c6f2-4350-8ded-a70a974c86d0",
   "metadata": {},
   "source": []
  },
  {
   "cell_type": "markdown",
   "id": "6a98e16e-1114-4f4b-9867-3f60019ee45f",
   "metadata": {},
   "source": [
    "7. What is the coefficient of determination? (R-squared)"
   ]
  },
  {
   "cell_type": "markdown",
   "id": "0954e7aa-cedd-4f1b-bce2-7793c0cf04c7",
   "metadata": {},
   "source": []
  },
  {
   "cell_type": "markdown",
   "id": "e621e18e-26a2-4cf5-ab5c-162d87b5889d",
   "metadata": {},
   "source": [
    "8. What is the Root mean square error for the forecasted values?"
   ]
  },
  {
   "cell_type": "markdown",
   "id": "e9e7d092-76af-470a-b85b-563ae5613cf8",
   "metadata": {},
   "source": []
  },
  {
   "cell_type": "markdown",
   "id": "393f2a07-2dd7-4ab3-86c7-0b0ba07f046b",
   "metadata": {},
   "source": [
    "### Filtering on coding langugage"
   ]
  },
  {
   "cell_type": "markdown",
   "id": "76c3ed66-711b-4f01-af30-dac4f927bc88",
   "metadata": {},
   "source": [
    "Consider the prominent langugages used in this software project and plot the distribution of their LOC in a pie chart for the first and the last versions"
   ]
  },
  {
   "cell_type": "code",
   "execution_count": 82,
   "id": "9fb22e22-5b37-4a67-9d43-dab4121fa83d",
   "metadata": {},
   "outputs": [
    {
     "name": "stdout",
     "output_type": "stream",
     "text": [
      "['100 files\\r     200 files\\r     300 files\\r     400 files\\r     500 files\\r     600 files\\r     700 files\\r     724 text files.', 'classified 647 files\\rDuplicate file check 647 files (609 known unique)\\rUnique:      100 files                                          \\rUnique:      200 files                                          \\rUnique:      300 files                                          \\rUnique:      400 files                                          \\rUnique:      500 files                                          \\rUnique:      600 files                                          \\r     646 unique files.', 'Counting:  100\\rCounting:  200\\rCounting:  300\\rCounting:  400\\rCounting:  500\\rCounting:  600\\r      90 files ignored.', '', 'files,language,blank,comment,code,\"github.com/AlDanial/cloc v 1.96  T=2.02 s (320.3 files/s 52712.8 lines/s)\"', '407,Java,7667,11303,45749', '10,Bourne Shell,1408,1071,9885', '30,C,1903,775,9263', '96,XML,520,2008,3757', '27,Groovy,629,394,2902', '3,Web Services Description,188,37,1139', '4,JSON,0,0,785', '20,C/C++ Header,198,201,654', '6,Perl,60,53,452', '15,Ant,35,507,425', '2,Python,89,156,345', '10,make,131,64,332', '3,Bourne Again Shell,18,25,237', '1,m4,20,1,163', '1,CSS,17,0,114', '1,XSD,12,33,99', '3,Properties,29,215,35', '1,Markdown,13,0,34', '2,Drools,4,0,21', '2,HTML,3,67,19', '2,diff,8,20,11', '646,SUM,12952,16930,76421']\n",
      "['100 files\\r     200 files\\r     300 files\\r     400 files\\r     500 files\\r     600 files\\r     700 files\\r     800 files\\r     900 files\\r    1000 files\\r    1100 files\\r    1200 files\\r    1300 files\\r    1400 files\\r    1500 files\\r    1600 files\\r    1700 files\\r    1800 files\\r    1900 files\\r    2000 files\\r    2100 files\\r    2200 files\\r    2300 files\\r    2400 files\\r    2500 files\\r    2600 files\\r    2700 files\\r    2800 files\\r    2900 files\\r    3000 files\\r    3100 files\\r    3200 files\\r    3286 text files.', 'classified 3116 files\\rDuplicate file check 3116 files (2658 known unique)\\rUnique:      100 files                                          \\rUnique:      200 files                                          \\rUnique:      300 files                                          \\rUnique:      400 files                                          \\rUnique:      500 files                                          \\rUnique:      600 files                                          \\rUnique:      700 files                                          \\rUnique:      800 files                                          \\rUnique:      900 files                                          \\rUnique:     1000 files                                          \\rUnique:     1100 files                                          \\rUnique:     1200 files                                          \\rUnique:     1300 files                                          \\rUnique:     1400 files                                          \\rUnique:     1500 files                                          \\rUnique:     1600 files                                          \\rUnique:     1700 files                                          \\rUnique:     1800 files                                          \\rUnique:     1900 files                                          \\rUnique:     2000 files                                          \\rUnique:     2100 files                                          \\rUnique:     2200 files                                          \\rUnique:     2300 files                                          \\rUnique:     2400 files                                          \\rUnique:     2500 files                                          \\rUnique:     2600 files                                          \\r    3109 unique files.', 'Counting:  100\\rCounting:  200\\rCounting:  300\\rCounting:  400\\rCounting:  500\\rCounting:  600\\rCounting:  700\\rCounting:  800\\rCounting:  900\\rCounting:  1000\\rCounting:  1100\\rCounting:  1200\\rCounting:  1300\\rCounting:  1400\\rCounting:  1500\\rCounting:  1600\\rCounting:  1700\\rCounting:  1800\\rCounting:  1900\\rCounting:  2000\\rCounting:  2100\\rCounting:  2200\\rCounting:  2300\\rCounting:  2400\\rCounting:  2500\\rCounting:  2600\\rCounting:  2700\\rCounting:  2800\\rCounting:  2900\\rCounting:  3000\\rCounting:  3100\\r     180 files ignored.', '', 'files,language,blank,comment,code,\"github.com/AlDanial/cloc v 1.96  T=32.40 s (96.0 files/s 21246.3 lines/s)\"', '2252,Java,41836,132528,261730', '82,C,11827,32013,69738', '289,Groovy,6264,8759,45057', '213,XML,1716,4456,18943', '20,Bourne Shell,1240,2036,8080', '67,C/C++ Header,1938,8206,5704', '56,Python,695,1768,3965', '35,Perl,634,2400,3623', '4,Web Services Description,525,298,3110', '13,JSON,0,0,3048', '16,make,293,893,956', '2,m4,62,1,541', '33,Ant,292,1096,499', '1,XSLT,27,106,326', '5,Bourne Again Shell,76,160,318', '3,HTML,47,100,113', '2,diff,32,86,41', '3,Text,7,0,39', '1,Markdown,13,0,34', '5,INI,2,0,23', '5,CSV,2,0,17', '1,YAML,0,0,16', '1,Properties,0,0,4', '3109,SUM,67528,194906,425925']\n"
     ]
    }
   ],
   "source": [
    "# Your code to get the data for LOC of first and last versions\n",
    "\n",
    "tag1=major_minor_versions[0]\n",
    "tag2=major_minor_versions[-1]\n",
    "\n",
    "languages = []\n",
    "nb_files_tag1 = []\n",
    "nb_files_tag2 = []\n",
    "\n",
    "\n",
    "command = f'git -C {eucalyptus_project_path} reset --hard {tag1}'\n",
    "process = subprocess.Popen(command, stdout=subprocess.PIPE, shell=True)\n",
    "command = f'..\\cloc-1.96.exe --csv {eucalyptus_project_path}'\n",
    "process = subprocess.Popen(command, stdout=subprocess.PIPE, shell=True)\n",
    "\n",
    "output = list(line.strip().decode(\"utf-8\") for line in process.stdout)\n",
    "\n",
    "command = f'git -C {eucalyptus_project_path} reset --hard {tag2}'\n",
    "process = subprocess.Popen(command, stdout=subprocess.PIPE, shell=True)\n",
    "command = f'..\\cloc-1.96.exe --csv {eucalyptus_project_path}'\n",
    "process = subprocess.Popen(command, stdout=subprocess.PIPE, shell=True)\n",
    "\n",
    "output2 = list(line.strip().decode(\"utf-8\") for line in process.stdout)\n",
    "print(output)\n",
    "print(output2)"
   ]
  },
  {
   "cell_type": "code",
   "execution_count": 81,
   "id": "dc14b7fe-b4d2-423c-b9c8-b79eb498ef3c",
   "metadata": {},
   "outputs": [
    {
     "name": "stdout",
     "output_type": "stream",
     "text": [
      "1.4 ['1.4', '1.5.0', '1.6.1', '2.0.0', '3.0.0', '3.1.0', '3.2.0', '3.3.0', '3.4.0', 'v4.0.0', 'v4.1.0', 'v4.2.0', 'v4.3.0']\n"
     ]
    }
   ],
   "source": [
    "first_version=['407,Java,7667,11303,45749', '10,Bourne Shell,1408,1071,9885', '30,C,1903,775,9263', '96,XML,520,2008,3757', '27,Groovy,629,394,2902', '3,Web Services Description,188,37,1139', '4,JSON,0,0,785', '20,C/C++ Header,198,201,654', '6,Perl,60,53,452', '15,Ant,35,507,425', '2,Python,89,156,345', '10,make,131,64,332', '3,Bourne Again Shell,18,25,237', '1,m4,20,1,163', '1,CSS,17,0,114', '1,XSD,12,33,99', '3,Properties,29,215,35', '1,Markdown,13,0,34', '2,Drools,4,0,21', '2,HTML,3,67,19', '2,diff,8,20,11']\n",
    "\n",
    "last_version=['2252,Java,41836,132528,261730', '82,C,11827,32013,69738', '289,Groovy,6264,8759,45057', '213,XML,1716,4456,18943', '20,Bourne Shell,1240,2036,8080', '67,C/C++ Header,1938,8206,5704', '56,Python,695,1768,3965', '35,Perl,634,2400,3623', '4,Web Services Description,525,298,3110', '13,JSON,0,0,3048', '16,make,293,893,956', '2,m4,62,1,541', '33,Ant,292,1096,499', '1,XSLT,27,106,326', '5,Bourne Again Shell,76,160,318', '3,HTML,47,100,113', '2,diff,32,86,41', '3,Text,7,0,39', '1,Markdown,13,0,34', '5,INI,2,0,23', '5,CSV,2,0,17', '1,YAML,0,0,16', '1,Properties,0,0,4']\n",
    "\n",
    "# Your pie chart code here"
   ]
  },
  {
   "cell_type": "markdown",
   "id": "056e7d22-fee2-4efb-ace7-c06b99edbd36",
   "metadata": {},
   "source": [
    "### Question:\n",
    "9. Do you find any significant difference in the distribution of the language used in the software project between its first and the last version? If so, what is the difference and how much is it?"
   ]
  },
  {
   "cell_type": "code",
   "execution_count": null,
   "id": "8397df5e-e0cd-4608-8e28-d94240b7ace9",
   "metadata": {},
   "outputs": [],
   "source": []
  },
  {
   "cell_type": "markdown",
   "id": "44d37ce7-c3ad-4eb9-a7e6-b7f52ac137c1",
   "metadata": {},
   "source": [
    "### Law of increasing growth for coding langugages"
   ]
  },
  {
   "cell_type": "markdown",
   "id": "ededc08c-1bd4-4725-984a-61a71aa240c6",
   "metadata": {},
   "source": [
    "Get the LOC for each of the considered prominent langugages (as above) for each version of the form major.minor.patch  \n",
    "1) Plot the date (x-axis) vs LOC (y-axis) \n",
    "2) Plot the date (x-axis) vs proportional LOC (y-axis). Proportional is LOC of a language/total number of LOC"
   ]
  },
  {
   "cell_type": "code",
   "execution_count": null,
   "id": "ccd66fa9-c455-4339-bf42-e9b881d6ffad",
   "metadata": {},
   "outputs": [],
   "source": [
    "# Your code to get the LOC for each prominent language of each version"
   ]
  },
  {
   "cell_type": "code",
   "execution_count": null,
   "id": "bf843988-362f-4486-9e49-5a641c1d04dc",
   "metadata": {},
   "outputs": [],
   "source": [
    "# Your plotting code here"
   ]
  },
  {
   "cell_type": "markdown",
   "id": "ea3b1876-ad5a-4f90-96e8-ed07e2852101",
   "metadata": {},
   "source": [
    "### Question:\n",
    "10. Does the prominent languages considered by you obey laws of increasing growth?"
   ]
  },
  {
   "cell_type": "markdown",
   "id": "8df7db15-f203-41d6-9bd6-eccf2f9742b5",
   "metadata": {},
   "source": []
  },
  {
   "cell_type": "markdown",
   "id": "478c66e4-4f20-4ed8-98db-70bdcf920fcd",
   "metadata": {},
   "source": [
    "11. Does this software project obey the Law of Increasing Growth?"
   ]
  },
  {
   "cell_type": "markdown",
   "id": "26146858-0cb6-4fd8-9a6b-debef98390b7",
   "metadata": {},
   "source": []
  },
  {
   "cell_type": "markdown",
   "id": "375ae835-c18c-4af3-a730-32d853df034a",
   "metadata": {},
   "source": [
    "### Modify the CLOC parameters"
   ]
  },
  {
   "cell_type": "markdown",
   "id": "b3d71b90-1492-4833-9c0a-c8a0f7446ada",
   "metadata": {},
   "source": [
    "1. Exclude all bank lines and verify if the Law of Increasing Growth still holds good for this filtering"
   ]
  },
  {
   "cell_type": "code",
   "execution_count": null,
   "id": "ff129b14-94ae-460c-bcb3-981180e72db3",
   "metadata": {},
   "outputs": [],
   "source": [
    "# Your code and plot here"
   ]
  },
  {
   "cell_type": "markdown",
   "id": "5cb0cee6-19b3-4e50-8cb5-82eb50736713",
   "metadata": {},
   "source": [
    "2. Exclude all comment lines and verify if the Law of Increasing Growth still holds good for this filtering"
   ]
  },
  {
   "cell_type": "code",
   "execution_count": null,
   "id": "7d971a34-fe97-4793-9864-07b2114ed373",
   "metadata": {},
   "outputs": [],
   "source": [
    "# Your code and plot here"
   ]
  },
  {
   "cell_type": "markdown",
   "id": "16cfd99a-0a91-497d-a1f9-4d7a8d407736",
   "metadata": {},
   "source": [
    "3. Exclude all non-code files (or consider prominent coding langugages used in the project) and and verify if the Law of Increasing Growth still holds good for this filtering"
   ]
  },
  {
   "cell_type": "code",
   "execution_count": null,
   "id": "d4981a7f-f79a-4e62-9ba3-94723a0ad640",
   "metadata": {},
   "outputs": [],
   "source": [
    "# Your code and plot here"
   ]
  },
  {
   "cell_type": "code",
   "execution_count": null,
   "id": "bc0d6002-1014-43d0-8dfc-dae6a8680a04",
   "metadata": {},
   "outputs": [],
   "source": []
  },
  {
   "cell_type": "markdown",
   "id": "5dfd05d1-2dc8-4abc-8d05-639007bf553e",
   "metadata": {},
   "source": [
    "### 2.3 Law of Continuing Change\n",
    "1. Using CLOC tool, find the features such as number of lines of code that are added, modified, removed and same between two consecutive versions\n",
    "2. Consider all the three component versions (major.minor.patch) - Dataset A\n",
    "3. Consider only the minor versions (major.minor) - Dataset B\n",
    "4. Having all the features in the same plot, create two plots (one for Dataset A and another for Dataset B) the outcomes with date on x-axis and the number on y-axis.\n",
    "5. Make a subplot of all the features\n",
    "\n",
    "Code hint:  \n",
    "For each pair of tags, set the original project to the required tag and the copy of the original project to the next tag.  \n",
    "To get the required data in json format - \"command = f'CLOC/cloc --git --diff {first_project_path} {second_project_path} --json'\""
   ]
  },
  {
   "cell_type": "code",
   "execution_count": null,
   "id": "c38f5e8d-245b-4307-9d98-2340cbea06a1",
   "metadata": {},
   "outputs": [],
   "source": [
    "eucalyptus_project_path = '' # your project path here\n",
    "eucalyptus_copy_project_path = '' # your path to the copy of your project here\n",
    "major_minor_patch_versions = '' #set of version that you would like to consider for this analysis"
   ]
  },
  {
   "cell_type": "code",
   "execution_count": null,
   "id": "f0682e1c-dd84-4f31-bdfa-781e5a6ac75f",
   "metadata": {},
   "outputs": [],
   "source": [
    "# Your code here to get the data"
   ]
  },
  {
   "cell_type": "code",
   "execution_count": null,
   "id": "7b5f935d-dc48-4b97-8d5c-9168e372bb47",
   "metadata": {},
   "outputs": [],
   "source": [
    "# Your code here to get the dates corresponding to the tags"
   ]
  },
  {
   "cell_type": "code",
   "execution_count": null,
   "id": "8500a388-8c65-4203-81df-156a9425b67e",
   "metadata": {},
   "outputs": [],
   "source": [
    "# Your plotting code here (all the features in a single plot)"
   ]
  },
  {
   "cell_type": "code",
   "execution_count": null,
   "id": "9505d1a0-2c0d-470a-b545-95680be092f4",
   "metadata": {},
   "outputs": [],
   "source": [
    "# Your plotting code here, different plot for each feature\n",
    "fig,axes = plt.subplots(2,2)"
   ]
  },
  {
   "cell_type": "markdown",
   "id": "a96114cb-aafb-4c57-8bff-af5d309b1994",
   "metadata": {},
   "source": [
    "### Questions:\n",
    "1. Do you find the Law of Continuing Change holding good here? Prove it empirically."
   ]
  },
  {
   "cell_type": "markdown",
   "id": "131fe261-c978-434d-824f-f6e416fb6110",
   "metadata": {},
   "source": []
  },
  {
   "cell_type": "markdown",
   "id": "dd5ee600-da8e-431d-9028-fc3fc3d9f97e",
   "metadata": {},
   "source": [
    "2. Does the law of increasing growth too hold good here?"
   ]
  },
  {
   "cell_type": "markdown",
   "id": "7fe9e863-19a3-4f53-b50e-b8f065615839",
   "metadata": {},
   "source": []
  },
  {
   "cell_type": "markdown",
   "id": "ce62cb54-5d8f-4e65-a50b-b12cd9f6e362",
   "metadata": {},
   "source": [
    "### Law of continuing change for coding languages\n",
    "Consider the prominent languages used in this software project for versions of the form major.minor.patch\n",
    "1. Obtain the number of lines of code that are added, modified, removed and same between two consecutive versions\n",
    "2. Make plots for each parameter (added, modified, removed and same) with date on x-axis  \n",
    "    a) y-axis number of lines of code   \n",
    "    b) y-axis proportional number of lines of code (number of lines of code of that language/total number of lines of code) "
   ]
  },
  {
   "cell_type": "code",
   "execution_count": null,
   "id": "9707b16c-abb1-4ef8-bd77-af85711cd624",
   "metadata": {},
   "outputs": [],
   "source": [
    "# Your code here"
   ]
  },
  {
   "cell_type": "code",
   "execution_count": null,
   "id": "aaf138ba-8d1e-498a-ac34-17c05c1b0b16",
   "metadata": {},
   "outputs": [],
   "source": [
    "# Your plotting code here\n",
    "fig,axes = plt.subplots(2,2)"
   ]
  },
  {
   "cell_type": "markdown",
   "id": "b4297222-6881-4cc5-a335-c707c3c3c0c1",
   "metadata": {},
   "source": [
    "### Question:\n",
    "3. Does the law of continuing change obey here for all the considered prominent langugages? Comment on the rate of growth.  "
   ]
  },
  {
   "cell_type": "markdown",
   "id": "ae7d089a-2bb5-4a18-a6d4-5919fe73a8d9",
   "metadata": {},
   "source": []
  },
  {
   "cell_type": "markdown",
   "id": "ea29d2e5-7f12-46c4-baad-e4abe3406e9f",
   "metadata": {},
   "source": [
    "4. Does this software project obey Law of Continuing Change?"
   ]
  },
  {
   "cell_type": "markdown",
   "id": "0fe3765f-2f31-4ecc-96cf-991cdb610a14",
   "metadata": {},
   "source": []
  },
  {
   "cell_type": "code",
   "execution_count": null,
   "id": "46b3a214-86cd-4f91-9f1c-ca31089a3c21",
   "metadata": {},
   "outputs": [],
   "source": []
  }
 ],
 "metadata": {
  "kernelspec": {
   "display_name": "Python 3 (ipykernel)",
   "language": "python",
   "name": "python3"
  },
  "language_info": {
   "codemirror_mode": {
    "name": "ipython",
    "version": 3
   },
   "file_extension": ".py",
   "mimetype": "text/x-python",
   "name": "python",
   "nbconvert_exporter": "python",
   "pygments_lexer": "ipython3",
   "version": "3.9.7"
  }
 },
 "nbformat": 4,
 "nbformat_minor": 5
}
